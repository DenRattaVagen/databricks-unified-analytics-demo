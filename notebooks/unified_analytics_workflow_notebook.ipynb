{
 "cells": [
  {
   "cell_type": "markdown",
   "id": "17fe14ec",
   "metadata": {},
   "source": [
    "# Unified Analytics Demo\n",
    "This notebook demonstrates loading data with PySpark, saving to Delta Lake, querying with SQL, and logging with MLflow — all in one workflow."
   ]
  },
  {
   "cell_type": "code",
   "execution_count": null,
   "id": "6d74ab1c",
   "metadata": {
    "language": "python"
   },
   "outputs": [],
   "source": [
    "from pyspark.sql import SparkSession\n",
    "\n",
    "spark = SparkSession.builder.appName(\"Unified Analytics Demo\").getOrCreate()\n",
    "df = spark.read.format(\"json\").load(\"dbfs:/mnt/raw/users.json\")\n",
    "df.show()"
   ]
  },
  {
   "cell_type": "code",
   "execution_count": null,
   "id": "7321d617",
   "metadata": {
    "language": "python"
   },
   "outputs": [],
   "source": [
    "df_clean = df.filter(\"age > 18\").select(\"name\", \"email\")\n",
    "df_clean.show()"
   ]
  },
  {
   "cell_type": "code",
   "execution_count": null,
   "id": "a135fb44",
   "metadata": {
    "language": "python"
   },
   "outputs": [],
   "source": [
    "df_clean.write.format(\"delta\").mode(\"overwrite\").saveAsTable(\"users_clean\")"
   ]
  },
  {
   "cell_type": "code",
   "execution_count": null,
   "id": "9a0560fe",
   "metadata": {
    "language": "sql"
   },
   "outputs": [],
   "source": [
    "%sql\n",
    "SELECT email, COUNT(*) AS user_count\n",
    "FROM users_clean\n",
    "WHERE email LIKE '%@gmail.com'\n",
    "GROUP BY email\n",
    "ORDER BY user_count DESC\n",
    "LIMIT 10"
   ]
  },
  {
   "cell_type": "code",
   "execution_count": null,
   "id": "f4a3fa49",
   "metadata": {
    "language": "python"
   },
   "outputs": [],
   "source": [
    "import mlflow\n",
    "mlflow.start_run()\n",
    "mlflow.log_metric(\"gmail_users\", df_clean.filter(\"email LIKE '%@gmail.com'\").count())\n",
    "mlflow.end_run()"
   ]
  },
  {
   "cell_type": "markdown",
   "id": "b4b2eee7",
   "metadata": {},
   "source": [
    "✅ This completes the unified analytics workflow in one Databricks notebook."
   ]
  },
  {
   "metadata": {},
   "cell_type": "markdown",
   "source": "[![Databricks](https://databricks.com/wp-content/uploads/2020/08/databricks-logo.png)](https://databricks.com)\n",
   "id": "2664180e915f7538"
  }
 ],
 "metadata": {},
 "nbformat": 4,
 "nbformat_minor": 5
}
